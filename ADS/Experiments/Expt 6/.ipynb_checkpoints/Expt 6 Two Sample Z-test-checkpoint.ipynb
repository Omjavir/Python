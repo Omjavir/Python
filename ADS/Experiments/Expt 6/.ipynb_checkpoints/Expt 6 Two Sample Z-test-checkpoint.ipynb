{
 "cells": [
  {
   "cell_type": "markdown",
   "id": "0160a18f",
   "metadata": {},
   "source": [
    "# Two Sample Z-test"
   ]
  },
  {
   "cell_type": "code",
   "execution_count": 255,
   "id": "7efa9723",
   "metadata": {},
   "outputs": [],
   "source": [
    "import numpy as np\n",
    "import pandas as pd\n",
    "import math\n",
    "import scipy.stats as stats"
   ]
  },
  {
   "cell_type": "code",
   "execution_count": 256,
   "id": "d25d84c5",
   "metadata": {},
   "outputs": [],
   "source": [
    "def check_for(sym, arr):\n",
    "    i = [i for i in range(len(arr)) if arr[i] == sym]\n",
    "    if i != []:\n",
    "        return i[0]\n",
    "    else:\n",
    "        return None"
   ]
  },
  {
   "cell_type": "code",
   "execution_count": 273,
   "id": "ba4e38d3",
   "metadata": {},
   "outputs": [],
   "source": [
    "def two_sample_ztest(x1, x2, std1, std2, N1, N2, alpha, u1=None, u2=None):\n",
    "#   asking for the null hypothesis\n",
    "    null_hypo = input(\"Enter Null hypothesis: \")\n",
    "    null_hypo = null_hypo.split(' ')\n",
    "    alternate_hypo = [i for i in null_hypo]\n",
    "\n",
    "    test_type = ''\n",
    "#   based on null hypothesis deducing the alternate hypothesis and the type of test\n",
    "    if check_for('>=', null_hypo):\n",
    "        alternate_hypo[check_for('>=', null_hypo)] = '<'\n",
    "        test_type = 'One Left Tailed Test'\n",
    "    elif check_for('<=', null_hypo):\n",
    "        alternate_hypo[check_for('<=', null_hypo)] = '>' \n",
    "        test_type = 'One Right Tailed Test' \n",
    "    elif check_for('>', null_hypo):\n",
    "        alternate_hypo[check_for('>', null_hypo)] = '<=' \n",
    "        test_type = 'One Left Tailed Test'\n",
    "    elif check_for('<', null_hypo):\n",
    "        alternate_hypo[check_for('<', null_hypo)] = '>='\n",
    "        test_type = 'One Right Tailed Test'\n",
    "    elif check_for('=', null_hypo):\n",
    "        alternate_hypo[check_for('=', null_hypo)] = '!='\n",
    "        test_type = 'Two Tailed Test'\n",
    "    else:\n",
    "        print(\"Failed!\")\n",
    "        return\n",
    "\n",
    "#   if u1 and u2 is not given then ask the user\n",
    "    d = {'u1 - u2': 0}\n",
    "    if \" \".join(null_hypo) == 'u1 = u2':\n",
    "        d['u1 - u2'] = 0\n",
    "    elif check_for('-', null_hypo):\n",
    "        d['u1 - u2'] = float(null_hypo[-1])\n",
    "    elif not u1 or not u2:\n",
    "        d['u1 - u2'] = float(input(\"Enter u1 - u2: \"))\n",
    "    else:\n",
    "        d['u1 - u2'] = u1 - u2\n",
    "    print('u1 - u2 = ' + str(d['u1 - u2']))\n",
    "\n",
    "#   Calculate Z-Score, P-value, Critical Value\n",
    "    z_score = ((x1 - x2) - d['u1 - u2']) / math.sqrt((std1*std1 / N1) + (std2*std2 / N2))\n",
    "    p_value = stats.norm.sf(z_score)\n",
    "    if test_type == 'Two Tailed Test':\n",
    "        critical_value = stats.norm.ppf(alpha)\n",
    "    else:\n",
    "        critical_value = stats.norm.ppf(alpha)\n",
    "        \n",
    "#   Print the results\n",
    "    print('Null (Ho):-\\t\\t', \" \".join(null_hypo))\n",
    "    print('Alternate (Ha):-\\t', \" \".join(alternate_hypo))\n",
    "    print('Test type :-\\t\\t'+test_type)\n",
    "    print('Z-Score :-\\t\\t', end='')\n",
    "    print(z_score)\n",
    "    print('P-value :-\\t\\t', end='')\n",
    "    print(p_value)\n",
    "    print('Critical Value :-\\t', end='')\n",
    "    print(critical_value)\n",
    "\n",
    "    if abs(z_score) > abs(critical_value):\n",
    "        print(\"\\nNull Hypothesis Ho is rejected!\")\n",
    "        print(\"Alternate Hypothesis Ho is accepted!\")\n",
    "    else:\n",
    "        print(\"\\nNull Hypothesis Ho is accepted!\")"
   ]
  },
  {
   "cell_type": "markdown",
   "id": "cb97884d",
   "metadata": {},
   "source": [
    "# Two sample Z-test for example question"
   ]
  },
  {
   "cell_type": "code",
   "execution_count": 267,
   "id": "1a5c071c",
   "metadata": {},
   "outputs": [],
   "source": [
    "# girls = [650, 730, 510, 670, 480, 800, 690, 530, 590, 620, 710, 670, 640, 780, 650, 490, 800, 600, 510, 700]\n",
    "# boys = [630, 720, 462, 631, 440, 783, 673, 519, 543, 579, 677, 649, 632, 768, 615, 463, 781, 563, 488, 650]\n",
    "# pd.DataFrame({\n",
    "#     'girls': girls,\n",
    "#     'boys': boys\n",
    "# })"
   ]
  },
  {
   "cell_type": "code",
   "execution_count": 268,
   "id": "3b088c0f",
   "metadata": {},
   "outputs": [
    {
     "name": "stdout",
     "output_type": "stream",
     "text": [
      "Enter Null hypothesis: \n",
      "Failed!\n"
     ]
    }
   ],
   "source": [
    "std1 = 100\n",
    "std2 = 90\n",
    "x1 = 641\n",
    "x2 = 613.3\n",
    "N1 = 20\n",
    "N2 = 20\n",
    "alpha = 0.05\n",
    "\n",
    "two_sample_ztest(x1, x2, std1, std2, N1, N2, alpha)"
   ]
  },
  {
   "cell_type": "markdown",
   "id": "50365aa7",
   "metadata": {},
   "source": [
    "# Two sample Z-test for Selected Dataset"
   ]
  },
  {
   "cell_type": "code",
   "execution_count": 269,
   "id": "34941b6c",
   "metadata": {},
   "outputs": [
    {
     "data": {
      "text/html": [
       "<div>\n",
       "<style scoped>\n",
       "    .dataframe tbody tr th:only-of-type {\n",
       "        vertical-align: middle;\n",
       "    }\n",
       "\n",
       "    .dataframe tbody tr th {\n",
       "        vertical-align: top;\n",
       "    }\n",
       "\n",
       "    .dataframe thead th {\n",
       "        text-align: right;\n",
       "    }\n",
       "</style>\n",
       "<table border=\"1\" class=\"dataframe\">\n",
       "  <thead>\n",
       "    <tr style=\"text-align: right;\">\n",
       "      <th></th>\n",
       "      <th>2014 Male</th>\n",
       "      <th>2020 Male</th>\n",
       "    </tr>\n",
       "  </thead>\n",
       "  <tbody>\n",
       "    <tr>\n",
       "      <th>0</th>\n",
       "      <td>53.7</td>\n",
       "      <td>53.23</td>\n",
       "    </tr>\n",
       "    <tr>\n",
       "      <th>1</th>\n",
       "      <td>55.9</td>\n",
       "      <td>55.13</td>\n",
       "    </tr>\n",
       "    <tr>\n",
       "      <th>2</th>\n",
       "      <td>46.2</td>\n",
       "      <td>38.91</td>\n",
       "    </tr>\n",
       "    <tr>\n",
       "      <th>3</th>\n",
       "      <td>53.7</td>\n",
       "      <td>49.86</td>\n",
       "    </tr>\n",
       "    <tr>\n",
       "      <th>4</th>\n",
       "      <td>50.8</td>\n",
       "      <td>47.86</td>\n",
       "    </tr>\n",
       "  </tbody>\n",
       "</table>\n",
       "</div>"
      ],
      "text/plain": [
       "   2014 Male  2020 Male\n",
       "0       53.7      53.23\n",
       "1       55.9      55.13\n",
       "2       46.2      38.91\n",
       "3       53.7      49.86\n",
       "4       50.8      47.86"
      ]
     },
     "execution_count": 269,
     "metadata": {},
     "output_type": "execute_result"
    }
   ],
   "source": [
    "data = pd.read_csv('../Country Wise Gender.csv')[['2014 Male', '2020 Male']]\n",
    "data.head()"
   ]
  },
  {
   "cell_type": "code",
   "execution_count": 274,
   "id": "8bf6d423",
   "metadata": {},
   "outputs": [
    {
     "data": {
      "text/html": [
       "<div>\n",
       "<style scoped>\n",
       "    .dataframe tbody tr th:only-of-type {\n",
       "        vertical-align: middle;\n",
       "    }\n",
       "\n",
       "    .dataframe tbody tr th {\n",
       "        vertical-align: top;\n",
       "    }\n",
       "\n",
       "    .dataframe thead th {\n",
       "        text-align: right;\n",
       "    }\n",
       "</style>\n",
       "<table border=\"1\" class=\"dataframe\">\n",
       "  <thead>\n",
       "    <tr style=\"text-align: right;\">\n",
       "      <th></th>\n",
       "      <th>2014 Male</th>\n",
       "      <th>2020 Male</th>\n",
       "    </tr>\n",
       "  </thead>\n",
       "  <tbody>\n",
       "    <tr>\n",
       "      <th>19</th>\n",
       "      <td>54.5</td>\n",
       "      <td>51.78</td>\n",
       "    </tr>\n",
       "    <tr>\n",
       "      <th>41</th>\n",
       "      <td>70.3</td>\n",
       "      <td>70.45</td>\n",
       "    </tr>\n",
       "    <tr>\n",
       "      <th>18</th>\n",
       "      <td>54.9</td>\n",
       "      <td>52.48</td>\n",
       "    </tr>\n",
       "    <tr>\n",
       "      <th>9</th>\n",
       "      <td>54.1</td>\n",
       "      <td>50.23</td>\n",
       "    </tr>\n",
       "    <tr>\n",
       "      <th>36</th>\n",
       "      <td>62.5</td>\n",
       "      <td>56.62</td>\n",
       "    </tr>\n",
       "  </tbody>\n",
       "</table>\n",
       "</div>"
      ],
      "text/plain": [
       "    2014 Male  2020 Male\n",
       "19       54.5      51.78\n",
       "41       70.3      70.45\n",
       "18       54.9      52.48\n",
       "9        54.1      50.23\n",
       "36       62.5      56.62"
      ]
     },
     "execution_count": 274,
     "metadata": {},
     "output_type": "execute_result"
    }
   ],
   "source": [
    "sample = data.sample(n = 30)\n",
    "sample.head()"
   ]
  },
  {
   "cell_type": "code",
   "execution_count": 275,
   "id": "8d1552bc",
   "metadata": {},
   "outputs": [
    {
     "name": "stdout",
     "output_type": "stream",
     "text": [
      "Enter Null hypothesis: u1 = u2\n",
      "u1 - u2 = 0\n",
      "Null (Ho):-\t\t u1 = u2\n",
      "Alternate (Ha):-\t u1 != u2\n",
      "Test type :-\t\tTwo Tailed Test\n",
      "Z-Score :-\t\t0.17133682643905346\n",
      "P-value :-\t\t0.4319794626333929\n",
      "Critical Value :-\t-2.3263478740408408\n",
      "\n",
      "Null Hypothesis Ho is accepted!\n"
     ]
    }
   ],
   "source": [
    "u1 = data['2014 Male'].mean()\n",
    "u2 = data['2020 Male'].mean()\n",
    "x1 = sample['2014 Male'].mean()\n",
    "x2 = sample['2020 Male'].mean()\n",
    "std1 = sample['2014 Male'].std()\n",
    "std2 = sample['2020 Male'].std()\n",
    "N1 = 30\n",
    "N2 = 30\n",
    "alpha = 0.01\n",
    "\n",
    "two_sample_ztest(x1, x2, std1, std2, N1, N2, alpha, u1, u2)"
   ]
  },
  {
   "cell_type": "code",
   "execution_count": null,
   "id": "ae94d1f4",
   "metadata": {},
   "outputs": [],
   "source": []
  }
 ],
 "metadata": {
  "kernelspec": {
   "display_name": "Python 3 (ipykernel)",
   "language": "python",
   "name": "python3"
  },
  "language_info": {
   "codemirror_mode": {
    "name": "ipython",
    "version": 3
   },
   "file_extension": ".py",
   "mimetype": "text/x-python",
   "name": "python",
   "nbconvert_exporter": "python",
   "pygments_lexer": "ipython3",
   "version": "3.9.7"
  }
 },
 "nbformat": 4,
 "nbformat_minor": 5
}
