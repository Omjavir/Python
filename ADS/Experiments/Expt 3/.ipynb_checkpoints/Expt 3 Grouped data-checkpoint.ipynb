{
 "cells": [
  {
   "cell_type": "code",
   "execution_count": 1,
   "id": "96ec4bc4",
   "metadata": {},
   "outputs": [],
   "source": [
    "import pandas as pd\n",
    "import numpy as np"
   ]
  },
  {
   "cell_type": "code",
   "execution_count": 2,
   "id": "9b4cd9d1",
   "metadata": {},
   "outputs": [
    {
     "data": {
      "text/html": [
       "<div>\n",
       "<style scoped>\n",
       "    .dataframe tbody tr th:only-of-type {\n",
       "        vertical-align: middle;\n",
       "    }\n",
       "\n",
       "    .dataframe tbody tr th {\n",
       "        vertical-align: top;\n",
       "    }\n",
       "\n",
       "    .dataframe thead th {\n",
       "        text-align: right;\n",
       "    }\n",
       "</style>\n",
       "<table border=\"1\" class=\"dataframe\">\n",
       "  <thead>\n",
       "    <tr style=\"text-align: right;\">\n",
       "      <th></th>\n",
       "      <th>marks_ads_ai</th>\n",
       "      <th>10 - 25</th>\n",
       "      <th>25 - 40</th>\n",
       "      <th>40 - 55</th>\n",
       "    </tr>\n",
       "  </thead>\n",
       "  <tbody>\n",
       "    <tr>\n",
       "      <th>0</th>\n",
       "      <td>0 - 20</td>\n",
       "      <td>10</td>\n",
       "      <td>4</td>\n",
       "      <td>6</td>\n",
       "    </tr>\n",
       "    <tr>\n",
       "      <th>1</th>\n",
       "      <td>20 - 40</td>\n",
       "      <td>5</td>\n",
       "      <td>40</td>\n",
       "      <td>9</td>\n",
       "    </tr>\n",
       "    <tr>\n",
       "      <th>2</th>\n",
       "      <td>40 - 60</td>\n",
       "      <td>3</td>\n",
       "      <td>8</td>\n",
       "      <td>15</td>\n",
       "    </tr>\n",
       "  </tbody>\n",
       "</table>\n",
       "</div>"
      ],
      "text/plain": [
       "  marks_ads_ai  10 - 25  25 - 40  40 - 55\n",
       "0       0 - 20       10        4        6\n",
       "1      20 - 40        5       40        9\n",
       "2      40 - 60        3        8       15"
      ]
     },
     "execution_count": 2,
     "metadata": {},
     "output_type": "execute_result"
    }
   ],
   "source": [
    "marks_ai = ['0 - 20', '20 - 40', '40 - 60'],\n",
    "marks_ads = ['10 - 25', '25 - 40', '40 - 55'],\n",
    "frequency_matrix = [\n",
    "    [10, 4, 6],\n",
    "    [5, 40, 9],\n",
    "    [3, 8, 15]\n",
    "]\n",
    "\n",
    "df = pd.DataFrame({\n",
    "    'marks_ads_ai': marks_ads,\n",
    "    marks_ai[0]: frequency_matrix[0],\n",
    "    marks_ai[1]: frequency_matrix[1],\n",
    "    marks_ai[2]: frequency_matrix[2]\n",
    "})\n",
    "df"
   ]
  },
  {
   "cell_type": "code",
   "execution_count": null,
   "id": "e09104a8",
   "metadata": {},
   "outputs": [],
   "source": [
    "def get_median():\n",
    "    df = pd.DataFrame()\n",
    "    df[]"
   ]
  }
 ],
 "metadata": {
  "kernelspec": {
   "display_name": "Python 3 (ipykernel)",
   "language": "python",
   "name": "python3"
  },
  "language_info": {
   "codemirror_mode": {
    "name": "ipython",
    "version": 3
   },
   "file_extension": ".py",
   "mimetype": "text/x-python",
   "name": "python",
   "nbconvert_exporter": "python",
   "pygments_lexer": "ipython3",
   "version": "3.9.7"
  }
 },
 "nbformat": 4,
 "nbformat_minor": 5
}
